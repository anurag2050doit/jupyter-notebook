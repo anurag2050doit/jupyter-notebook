{
 "cells": [
  {
   "cell_type": "markdown",
   "metadata": {},
   "source": [
    "# Hacker Rank 30 day"
   ]
  },
  {
   "cell_type": "markdown",
   "metadata": {},
   "source": [
    "## Day 0: Hello, World."
   ]
  },
  {
   "cell_type": "code",
   "execution_count": 1,
   "metadata": {
    "collapsed": false
   },
   "outputs": [
    {
     "name": "stdout",
     "output_type": "stream",
     "text": [
      "Hello, World\n",
      "Hello, World.\n"
     ]
    }
   ],
   "source": [
    "# Read a full line of input from stdin and save it to our dynamically typed variable, input_string.\n",
    "inputString = raw_input()\n",
    "\n",
    "# Print a string literal saying \"Hello, World.\" to stdout.\n",
    "print 'Hello, World.'\n",
    "\n",
    "# TODO: Write a line of code here that prints the contents of input_string to stdout."
   ]
  },
  {
   "cell_type": "markdown",
   "metadata": {
    "collapsed": true
   },
   "source": [
    "## Day 1: Data Types"
   ]
  },
  {
   "cell_type": "code",
   "execution_count": 3,
   "metadata": {
    "collapsed": false
   },
   "outputs": [
    {
     "name": "stdout",
     "output_type": "stream",
     "text": [
      "5\n",
      "5.0\n",
      "Anurag\n",
      "9\n",
      "9.0\n",
      "HackerRank Anurag\n"
     ]
    }
   ],
   "source": [
    "i = 4\n",
    "d = 4.0\n",
    "s = 'HackerRank '\n",
    "\n",
    "n = int(raw_input())+i\n",
    "f = float(raw_input())+d\n",
    "st = s+ raw_input()\n",
    "\n",
    "print n\n",
    "print f\n",
    "print st\n",
    "\n",
    "# Declare second integer, double, and String variables.\n",
    "\n",
    "# Read and save an integer, double, and String to your variables.\n",
    "\n",
    "# Print the sum of both integer variables on a new line.\n",
    "\n",
    "# Print the sum of the double variables on a new line.\n",
    "\n",
    "# Concatenate and print the String variables on a new line\n",
    "# The 's' variable above should be printed first.\n"
   ]
  },
  {
   "cell_type": "markdown",
   "metadata": {},
   "source": [
    "## Day 2: Operators "
   ]
  },
  {
   "cell_type": "code",
   "execution_count": 4,
   "metadata": {
    "collapsed": false
   },
   "outputs": [
    {
     "name": "stdout",
     "output_type": "stream",
     "text": [
      "5\n",
      "4\n",
      "2\n",
      "The total meal cost is 5 dollars.\n"
     ]
    }
   ],
   "source": [
    "bill = float(raw_input())\n",
    "tip = float(raw_input())\n",
    "tax = float(raw_input())\n",
    "\n",
    "\n",
    "tip = bill *(tip/100)\n",
    "tax = bill *(tax/100)\n",
    "\n",
    "total = bill+tip+tax\n",
    "\n",
    "print \"The total meal cost is\",int(round(total)),\"dollars.\""
   ]
  },
  {
   "cell_type": "markdown",
   "metadata": {},
   "source": [
    "## Day 3: Intro to Conditional Statements "
   ]
  },
  {
   "cell_type": "code",
   "execution_count": 5,
   "metadata": {
    "collapsed": false
   },
   "outputs": [
    {
     "name": "stdout",
     "output_type": "stream",
     "text": [
      "5\n",
      "Weird\n"
     ]
    }
   ],
   "source": [
    "import sys\n",
    "n = int(raw_input().strip())\n",
    "if(n%2==0 and (n>20 or (n>=2 and n<=5))):\n",
    "               print \"Not Weird\"\n",
    "elif(n%2!=0 or (n>=6 and n<=20)):\n",
    "               print \"Weird\""
   ]
  },
  {
   "cell_type": "markdown",
   "metadata": {},
   "source": [
    "## Day 4: Class vs. Instance"
   ]
  },
  {
   "cell_type": "code",
   "execution_count": 7,
   "metadata": {
    "collapsed": false
   },
   "outputs": [
    {
     "name": "stdout",
     "output_type": "stream",
     "text": [
      "1\n",
      "15\n",
      "You are a teenager.\n",
      "You are old.\n",
      "\n"
     ]
    }
   ],
   "source": [
    "#Class Definition\n",
    "\n",
    "class Person:\n",
    "    def __init__(self,initialAge):\n",
    "        # Add some more code to run some checks on initialAge\n",
    "        if(initialAge<0):\n",
    "            print \"Age is not valid, setting age to 0.\"\n",
    "            initialAge = 0\n",
    "        self.initialAge = initialAge\n",
    "    def amIOld(self):\n",
    "        if(self.initialAge>=0 and self.initialAge<13):\n",
    "            print \"You are young.\"\n",
    "        elif(self.initialAge>=13 and self.initialAge<18):\n",
    "            print \"You are a teenager.\"\n",
    "        else:\n",
    "            print \"You are old.\"\n",
    "        # Do some computations in here and print out the correct statement to the console\n",
    "    def yearPasses(self):\n",
    "        self.initialAge+=1\n",
    "        # Increment the age of the person in here\n",
    "\n",
    "\n",
    "#Calling of function\n",
    "t = int(raw_input())\n",
    "for i in range(0, t):\n",
    "    age = int(raw_input())         \n",
    "    p = Person(age)  \n",
    "    p.amIOld()\n",
    "    for j in range(0, 3):\n",
    "        p.yearPasses()        \n",
    "    p.amIOld()\n",
    "    print(\"\")"
   ]
  },
  {
   "cell_type": "markdown",
   "metadata": {},
   "source": [
    "## Day 5: Loops"
   ]
  },
  {
   "cell_type": "code",
   "execution_count": 8,
   "metadata": {
    "collapsed": false
   },
   "outputs": [
    {
     "name": "stdout",
     "output_type": "stream",
     "text": [
      "5\n",
      "5 x 1 = 5\n",
      "5 x 2 = 10\n",
      "5 x 3 = 15\n",
      "5 x 4 = 20\n",
      "5 x 5 = 25\n",
      "5 x 6 = 30\n",
      "5 x 7 = 35\n",
      "5 x 8 = 40\n",
      "5 x 9 = 45\n",
      "5 x 10 = 50\n"
     ]
    }
   ],
   "source": [
    "#!/bin/python\n",
    "\n",
    "import sys\n",
    "\n",
    "\n",
    "n = int(raw_input().strip())\n",
    "for i in range(1,11):\n",
    "    print n,\"x\",i,'=',n*i  \n"
   ]
  },
  {
   "cell_type": "markdown",
   "metadata": {},
   "source": [
    "## Day 6: Let's Review"
   ]
  },
  {
   "cell_type": "code",
   "execution_count": 10,
   "metadata": {
    "collapsed": false
   },
   "outputs": [
    {
     "name": "stdout",
     "output_type": "stream",
     "text": [
      "1\n",
      "10\n",
      "1 0\n"
     ]
    }
   ],
   "source": [
    "# Enter your code here. Read input from STDIN. Print output to STDOUT\n",
    "\n",
    "n = int(raw_input())\n",
    "for i in range(0,n):\n",
    "    s = raw_input()\n",
    "    e = s[::2]\n",
    "    o = s[1::2]\n",
    "    print e,o"
   ]
  },
  {
   "cell_type": "markdown",
   "metadata": {},
   "source": [
    "## Day 7: Arrays"
   ]
  },
  {
   "cell_type": "code",
   "execution_count": 12,
   "metadata": {
    "collapsed": false
   },
   "outputs": [
    {
     "name": "stdout",
     "output_type": "stream",
     "text": [
      "1\n",
      "11\n",
      "11 "
     ]
    }
   ],
   "source": [
    "#!/bin/python\n",
    "from __future__ import print_function\n",
    "import sys\n",
    "\n",
    "n = int(raw_input().strip())\n",
    "arr = map(int,raw_input().strip().split(' '))\n",
    "for i in range(1,len(arr)+1):\n",
    "    print (arr[len(arr)-i], end=\" \")"
   ]
  },
  {
   "cell_type": "markdown",
   "metadata": {},
   "source": [
    "## Day 8: Dictionaries and Maps"
   ]
  },
  {
   "cell_type": "code",
   "execution_count": 14,
   "metadata": {
    "collapsed": false
   },
   "outputs": [
    {
     "name": "stdout",
     "output_type": "stream",
     "text": [
      "3\n",
      "sam 99912222 \n",
      "tom 11122222\n",
      "harry 12299933\n",
      "sam\n",
      "sam=99912222\n",
      "edward\n",
      "Not found\n",
      "harry\n",
      "harry=12299933\n"
     ]
    }
   ],
   "source": [
    "# Enter your code here. Read input from STDIN. Print output to STDOUT\n",
    "from __future__ import print_function\n",
    "n = int(raw_input())\n",
    "d = {}\n",
    "for i in range(0,n):\n",
    "    key,value = raw_input().split()\n",
    "    d[key] = value\n",
    "\n",
    "for i in range(0,n):\n",
    "    key = raw_input()\n",
    "    try:\n",
    "        value = d[key]\n",
    "        p = str(key)+\"=\"+str(value)\n",
    "        print (p)\n",
    "    except:\n",
    "        print (\"Not found\")\n"
   ]
  },
  {
   "cell_type": "markdown",
   "metadata": {},
   "source": [
    "## Day 9: Recursion"
   ]
  },
  {
   "cell_type": "code",
   "execution_count": 19,
   "metadata": {
    "collapsed": false
   },
   "outputs": [
    {
     "name": "stdout",
     "output_type": "stream",
     "text": [
      "5\n",
      "120\n"
     ]
    }
   ],
   "source": [
    "# Enter your code here. Read input from STDIN. Print output to STDOUT\n",
    "\n",
    "def factorial(n):\n",
    "    if(n>=1):\n",
    "        return n*factorial(n-1)\n",
    "    else:\n",
    "        return 1\n",
    "    \n",
    "    \n",
    "n = int(raw_input())\n",
    "fac = factorial(n)\n",
    "print (fac)"
   ]
  },
  {
   "cell_type": "markdown",
   "metadata": {},
   "source": [
    "## Day 10: Binary Numbers"
   ]
  },
  {
   "cell_type": "code",
   "execution_count": 20,
   "metadata": {
    "collapsed": false
   },
   "outputs": [
    {
     "name": "stdout",
     "output_type": "stream",
     "text": [
      "5\n",
      "1\n"
     ]
    }
   ],
   "source": [
    "#!/bin/python\n",
    "\n",
    "\n",
    "n = int(raw_input().strip())\n",
    "binary = []\n",
    "counter = 0\n",
    "max_counter = 0\n",
    "while(n>0):\n",
    "    rem = n%2\n",
    "    binary.append(rem)\n",
    "    n = n/2\n",
    "for one in binary:\n",
    "    if(one==1):\n",
    "        counter +=1\n",
    "    if(max_counter<counter):\n",
    "        max_counter = counter\n",
    "    if(one==0):\n",
    "        counter= 0\n",
    "print (max_counter)"
   ]
  },
  {
   "cell_type": "code",
   "execution_count": null,
   "metadata": {
    "collapsed": true
   },
   "outputs": [],
   "source": []
  }
 ],
 "metadata": {
  "kernelspec": {
   "display_name": "Python 2",
   "language": "python",
   "name": "python2"
  },
  "language_info": {
   "codemirror_mode": {
    "name": "ipython",
    "version": 2
   },
   "file_extension": ".py",
   "mimetype": "text/x-python",
   "name": "python",
   "nbconvert_exporter": "python",
   "pygments_lexer": "ipython2",
   "version": "2.7.13"
  }
 },
 "nbformat": 4,
 "nbformat_minor": 0
}
