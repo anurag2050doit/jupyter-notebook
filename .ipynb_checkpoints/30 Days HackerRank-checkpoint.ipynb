{
 "cells": [
  {
   "cell_type": "markdown",
   "metadata": {},
   "source": [
    "# Hacker Rank 30 day"
   ]
  },
  {
   "cell_type": "markdown",
   "metadata": {},
   "source": [
    "## Day 0: Hello, World."
   ]
  },
  {
   "cell_type": "code",
   "execution_count": 1,
   "metadata": {
    "collapsed": false
   },
   "outputs": [
    {
     "name": "stdout",
     "output_type": "stream",
     "text": [
      "Hello, World\n",
      "Hello, World.\n"
     ]
    }
   ],
   "source": [
    "# Read a full line of input from stdin and save it to our dynamically typed variable, input_string.\n",
    "inputString = raw_input()\n",
    "\n",
    "# Print a string literal saying \"Hello, World.\" to stdout.\n",
    "print 'Hello, World.'\n",
    "\n",
    "# TODO: Write a line of code here that prints the contents of input_string to stdout."
   ]
  },
  {
   "cell_type": "markdown",
   "metadata": {
    "collapsed": true
   },
   "source": [
    "## Day 1: Data Types"
   ]
  },
  {
   "cell_type": "code",
   "execution_count": 3,
   "metadata": {
    "collapsed": false
   },
   "outputs": [
    {
     "name": "stdout",
     "output_type": "stream",
     "text": [
      "5\n",
      "5.0\n",
      "Anurag\n",
      "9\n",
      "9.0\n",
      "HackerRank Anurag\n"
     ]
    }
   ],
   "source": [
    "i = 4\n",
    "d = 4.0\n",
    "s = 'HackerRank '\n",
    "\n",
    "n = int(raw_input())+i\n",
    "f = float(raw_input())+d\n",
    "st = s+ raw_input()\n",
    "\n",
    "print n\n",
    "print f\n",
    "print st\n",
    "\n",
    "# Declare second integer, double, and String variables.\n",
    "\n",
    "# Read and save an integer, double, and String to your variables.\n",
    "\n",
    "# Print the sum of both integer variables on a new line.\n",
    "\n",
    "# Print the sum of the double variables on a new line.\n",
    "\n",
    "# Concatenate and print the String variables on a new line\n",
    "# The 's' variable above should be printed first.\n"
   ]
  },
  {
   "cell_type": "markdown",
   "metadata": {},
   "source": [
    "## Day 2: Operators "
   ]
  },
  {
   "cell_type": "code",
   "execution_count": 4,
   "metadata": {
    "collapsed": false
   },
   "outputs": [
    {
     "name": "stdout",
     "output_type": "stream",
     "text": [
      "5\n",
      "4\n",
      "2\n",
      "The total meal cost is 5 dollars.\n"
     ]
    }
   ],
   "source": [
    "bill = float(raw_input())\n",
    "tip = float(raw_input())\n",
    "tax = float(raw_input())\n",
    "\n",
    "\n",
    "tip = bill *(tip/100)\n",
    "tax = bill *(tax/100)\n",
    "\n",
    "total = bill+tip+tax\n",
    "\n",
    "print \"The total meal cost is\",int(round(total)),\"dollars.\""
   ]
  },
  {
   "cell_type": "markdown",
   "metadata": {},
   "source": [
    "## Day 3: Intro to Conditional Statements "
   ]
  },
  {
   "cell_type": "code",
   "execution_count": 5,
   "metadata": {
    "collapsed": false
   },
   "outputs": [
    {
     "name": "stdout",
     "output_type": "stream",
     "text": [
      "5\n",
      "Weird\n"
     ]
    }
   ],
   "source": [
    "import sys\n",
    "n = int(raw_input().strip())\n",
    "if(n%2==0 and (n>20 or (n>=2 and n<=5))):\n",
    "               print \"Not Weird\"\n",
    "elif(n%2!=0 or (n>=6 and n<=20)):\n",
    "               print \"Weird\""
   ]
  },
  {
   "cell_type": "markdown",
   "metadata": {},
   "source": [
    "## Day 4: Class vs. Instance"
   ]
  },
  {
   "cell_type": "code",
   "execution_count": 7,
   "metadata": {
    "collapsed": false
   },
   "outputs": [
    {
     "name": "stdout",
     "output_type": "stream",
     "text": [
      "1\n",
      "15\n",
      "You are a teenager.\n",
      "You are old.\n",
      "\n"
     ]
    }
   ],
   "source": [
    "#Class Definition\n",
    "\n",
    "class Person:\n",
    "    def __init__(self,initialAge):\n",
    "        # Add some more code to run some checks on initialAge\n",
    "        if(initialAge<0):\n",
    "            print \"Age is not valid, setting age to 0.\"\n",
    "            initialAge = 0\n",
    "        self.initialAge = initialAge\n",
    "    def amIOld(self):\n",
    "        if(self.initialAge>=0 and self.initialAge<13):\n",
    "            print \"You are young.\"\n",
    "        elif(self.initialAge>=13 and self.initialAge<18):\n",
    "            print \"You are a teenager.\"\n",
    "        else:\n",
    "            print \"You are old.\"\n",
    "        # Do some computations in here and print out the correct statement to the console\n",
    "    def yearPasses(self):\n",
    "        self.initialAge+=1\n",
    "        # Increment the age of the person in here\n",
    "\n",
    "\n",
    "#Calling of function\n",
    "t = int(raw_input())\n",
    "for i in range(0, t):\n",
    "    age = int(raw_input())         \n",
    "    p = Person(age)  \n",
    "    p.amIOld()\n",
    "    for j in range(0, 3):\n",
    "        p.yearPasses()        \n",
    "    p.amIOld()\n",
    "    print(\"\")"
   ]
  },
  {
   "cell_type": "markdown",
   "metadata": {},
   "source": [
    "## Day 5: Loops"
   ]
  },
  {
   "cell_type": "code",
   "execution_count": 8,
   "metadata": {
    "collapsed": false
   },
   "outputs": [
    {
     "name": "stdout",
     "output_type": "stream",
     "text": [
      "5\n",
      "5 x 1 = 5\n",
      "5 x 2 = 10\n",
      "5 x 3 = 15\n",
      "5 x 4 = 20\n",
      "5 x 5 = 25\n",
      "5 x 6 = 30\n",
      "5 x 7 = 35\n",
      "5 x 8 = 40\n",
      "5 x 9 = 45\n",
      "5 x 10 = 50\n"
     ]
    }
   ],
   "source": [
    "#!/bin/python\n",
    "\n",
    "import sys\n",
    "\n",
    "\n",
    "n = int(raw_input().strip())\n",
    "for i in range(1,11):\n",
    "    print n,\"x\",i,'=',n*i  \n"
   ]
  },
  {
   "cell_type": "markdown",
   "metadata": {},
   "source": [
    "## Day 6: Let's Review"
   ]
  },
  {
   "cell_type": "code",
   "execution_count": 10,
   "metadata": {
    "collapsed": false
   },
   "outputs": [
    {
     "name": "stdout",
     "output_type": "stream",
     "text": [
      "1\n",
      "10\n",
      "1 0\n"
     ]
    }
   ],
   "source": [
    "# Enter your code here. Read input from STDIN. Print output to STDOUT\n",
    "\n",
    "n = int(raw_input())\n",
    "for i in range(0,n):\n",
    "    s = raw_input()\n",
    "    e = s[::2]\n",
    "    o = s[1::2]\n",
    "    print e,o"
   ]
  },
  {
   "cell_type": "markdown",
   "metadata": {},
   "source": [
    "## Day 7: Arrays"
   ]
  },
  {
   "cell_type": "code",
   "execution_count": 12,
   "metadata": {
    "collapsed": false
   },
   "outputs": [
    {
     "name": "stdout",
     "output_type": "stream",
     "text": [
      "1\n",
      "11\n",
      "11 "
     ]
    }
   ],
   "source": [
    "#!/bin/python\n",
    "from __future__ import print_function\n",
    "import sys\n",
    "\n",
    "n = int(raw_input().strip())\n",
    "arr = map(int,raw_input().strip().split(' '))\n",
    "for i in range(1,len(arr)+1):\n",
    "    print (arr[len(arr)-i], end=\" \")"
   ]
  },
  {
   "cell_type": "markdown",
   "metadata": {},
   "source": [
    "## Day 8: Dictionaries and Maps"
   ]
  },
  {
   "cell_type": "code",
   "execution_count": 14,
   "metadata": {
    "collapsed": false
   },
   "outputs": [
    {
     "name": "stdout",
     "output_type": "stream",
     "text": [
      "3\n",
      "sam 99912222 \n",
      "tom 11122222\n",
      "harry 12299933\n",
      "sam\n",
      "sam=99912222\n",
      "edward\n",
      "Not found\n",
      "harry\n",
      "harry=12299933\n"
     ]
    }
   ],
   "source": [
    "# Enter your code here. Read input from STDIN. Print output to STDOUT\n",
    "from __future__ import print_function\n",
    "n = int(raw_input())\n",
    "d = {}\n",
    "for i in range(0,n):\n",
    "    key,value = raw_input().split()\n",
    "    d[key] = value\n",
    "\n",
    "for i in range(0,n):\n",
    "    key = raw_input()\n",
    "    try:\n",
    "        value = d[key]\n",
    "        p = str(key)+\"=\"+str(value)\n",
    "        print (p)\n",
    "    except:\n",
    "        print (\"Not found\")\n"
   ]
  },
  {
   "cell_type": "markdown",
   "metadata": {},
   "source": [
    "## Day 9: Recursion"
   ]
  },
  {
   "cell_type": "code",
   "execution_count": 19,
   "metadata": {
    "collapsed": false
   },
   "outputs": [
    {
     "name": "stdout",
     "output_type": "stream",
     "text": [
      "5\n",
      "120\n"
     ]
    }
   ],
   "source": [
    "# Enter your code here. Read input from STDIN. Print output to STDOUT\n",
    "\n",
    "def factorial(n):\n",
    "    if(n>=1):\n",
    "        return n*factorial(n-1)\n",
    "    else:\n",
    "        return 1\n",
    "    \n",
    "    \n",
    "n = int(raw_input())\n",
    "fac = factorial(n)\n",
    "print (fac)"
   ]
  },
  {
   "cell_type": "markdown",
   "metadata": {},
   "source": [
    "## Day 10: Binary Numbers"
   ]
  },
  {
   "cell_type": "code",
   "execution_count": 20,
   "metadata": {
    "collapsed": false
   },
   "outputs": [
    {
     "name": "stdout",
     "output_type": "stream",
     "text": [
      "5\n",
      "1\n"
     ]
    }
   ],
   "source": [
    "#!/bin/python\n",
    "\n",
    "\n",
    "n = int(raw_input().strip())\n",
    "binary = []\n",
    "counter = 0\n",
    "max_counter = 0\n",
    "while(n>0):\n",
    "    rem = n%2\n",
    "    binary.append(rem)\n",
    "    n = n/2\n",
    "for one in binary:\n",
    "    if(one==1):\n",
    "        counter +=1\n",
    "    if(max_counter<counter):\n",
    "        max_counter = counter\n",
    "    if(one==0):\n",
    "        counter= 0\n",
    "print (max_counter)"
   ]
  },
  {
   "cell_type": "markdown",
   "metadata": {
    "collapsed": true
   },
   "source": [
    "## Day 11: 2D Arrays"
   ]
  },
  {
   "cell_type": "code",
   "execution_count": 14,
   "metadata": {
    "collapsed": false
   },
   "outputs": [
    {
     "name": "stdout",
     "output_type": "stream",
     "text": [
      "1 1 1 0 0 0\n",
      "0 1 0 0 0 0\n",
      "1 1 1 0 0 0\n",
      "0 0 2 4 4 0\n",
      "0 0 0 2 0 0\n",
      "0 0 1 2 4 0\n",
      "19\n"
     ]
    }
   ],
   "source": [
    "arr = []\n",
    "maximum = 0\n",
    "for arr_i in xrange(6):\n",
    "   arr_temp = map(int,raw_input().strip().split(' '))\n",
    "   arr.append(arr_temp)\n",
    "for i in xrange(len(arr)-2):\n",
    "    for j in xrange(len(arr)-2):\n",
    "        sum_arr = arr[i][j]+arr[i][j+1]+arr[i][j+2]+arr[i+1][j+1]+arr[i+2][j]+arr[i+2][j+1]+arr[i+2][j+2]\n",
    "        if(sum_arr>maximum):\n",
    "            maximum=sum_arr\n",
    "print maximum"
   ]
  },
  {
   "cell_type": "markdown",
   "metadata": {},
   "source": [
    "## Day 12: Inheritance"
   ]
  },
  {
   "cell_type": "code",
   "execution_count": 1,
   "metadata": {
    "collapsed": false
   },
   "outputs": [
    {
     "name": "stdout",
     "output_type": "stream",
     "text": [
      "Satish Pandey 7826099\n",
      "4\n",
      "40 60 54 70\n",
      "Name: Pandey, Satish\n",
      "ID: 7826099\n",
      "Grade: P\n"
     ]
    }
   ],
   "source": [
    "class Person:\n",
    "    def __init__(self, firstName, lastName, idNumber):\n",
    "        self.firstName = firstName\n",
    "        self.lastName = lastName\n",
    "        self.idNumber = idNumber\n",
    "    def printPerson(self):\n",
    "        print \"Name:\", self.lastName + \",\", self.firstName\n",
    "        print \"ID:\", self.idNumber\n",
    "\n",
    "class Student(Person):\n",
    "    def __init__(self,firstName,lastName,idNumber,scores):\n",
    "        Person.__init__(self,firstName,lastName,idNumber)\n",
    "        self.scores = scores\n",
    "        self.grade = (sum(scores))/len(scores)\n",
    "        \n",
    "    def calculate(self):\n",
    "        if(self.grade>=90 and self.grade<=100):\n",
    "            return 'O'\n",
    "        elif(self.grade>=80 and self.grade<90):\n",
    "            return 'E'\n",
    "        elif(self.grade>=70 and self.grade<80):\n",
    "            return \"A\"\n",
    "        elif(self.grade>=55 and self.grade<70):\n",
    "            return 'P'\n",
    "        elif(self.grade>=40 and self.grade<55):\n",
    "            return 'D'\n",
    "        elif(self.grade<40):\n",
    "            return 'T'\n",
    "\n",
    "\n",
    "\n",
    "line = raw_input().split()\n",
    "firstName = line[0]\n",
    "lastName = line[1]\n",
    "idNum = line[2]\n",
    "numScores = int(raw_input()) # not needed for Python\n",
    "scores = map(int, raw_input().split())\n",
    "s = Student(firstName, lastName, idNum, scores)\n",
    "s.printPerson()\n",
    "print \"Grade:\", s.calculate()"
   ]
  },
  {
   "cell_type": "markdown",
   "metadata": {
    "collapsed": false
   },
   "source": [
    "## Day 13: Abstract Classes"
   ]
  },
  {
   "cell_type": "code",
   "execution_count": 4,
   "metadata": {
    "collapsed": false
   },
   "outputs": [
    {
     "name": "stdout",
     "output_type": "stream",
     "text": [
      "The Alchemist\n",
      "Paulo Coelho\n",
      "248\n",
      "Title: The Alchemist\n",
      "Author: Paulo Coelho\n",
      "Price: 248\n"
     ]
    }
   ],
   "source": [
    "from abc import ABCMeta, abstractmethod\n",
    "class Book:\n",
    "    __metaclass__ = ABCMeta\n",
    "    def __init__(self,title,author):\n",
    "        self.title=title\n",
    "        self.author=author   \n",
    "    @abstractmethod\n",
    "    def display(): pass\n",
    "\n",
    "#Write MyBook class    \n",
    "class MyBook(Book):\n",
    "    def __init__(self,title,author,price):\n",
    "        Book.__init__(self,title,author)\n",
    "        self.title = title\n",
    "        self.author = author\n",
    "        self.price = price\n",
    "    def display(self):\n",
    "        print \"Title:\", self.title\n",
    "        print \"Author:\", self.author\n",
    "        print \"Price:\", self.price \n",
    "    \n",
    "title=raw_input()\n",
    "author=raw_input()\n",
    "price=int(raw_input())\n",
    "new_novel=MyBook(title,author,price)\n",
    "new_novel.display()"
   ]
  },
  {
   "cell_type": "markdown",
   "metadata": {
    "collapsed": true
   },
   "source": [
    "## Day 14: Scope"
   ]
  },
  {
   "cell_type": "code",
   "execution_count": 23,
   "metadata": {
    "collapsed": false
   },
   "outputs": [
    {
     "name": "stdout",
     "output_type": "stream",
     "text": [
      "3\n",
      "1 2 6\n",
      "5\n"
     ]
    }
   ],
   "source": [
    "class Difference:\n",
    "    def __init__(self, a):\n",
    "        self.__elements = a\n",
    "        self.maximumDifference=-100\n",
    "        \n",
    "    def computeDifference(self):\n",
    "        minNumber = min(self.__elements)\n",
    "        for i in xrange(0,len(self.__elements)):\n",
    "            difference = self.__elements[i]-minNumber\n",
    "            if(self.maximumDifference<difference):\n",
    "                self.maximumDifference=difference\n",
    "        \n",
    "\n",
    "\n",
    "\n",
    "# End of Difference class\n",
    "\n",
    "_ = raw_input()\n",
    "a = [int(e) for e in raw_input().split(' ')]\n",
    "\n",
    "d = Difference(a)\n",
    "d.computeDifference()\n",
    "\n",
    "print d.maximumDifference"
   ]
  },
  {
   "cell_type": "markdown",
   "metadata": {},
   "source": [
    "## Day 15: Linked List"
   ]
  },
  {
   "cell_type": "code",
   "execution_count": 11,
   "metadata": {
    "collapsed": false
   },
   "outputs": [
    {
     "name": "stdout",
     "output_type": "stream",
     "text": [
      "5\n",
      "1\n",
      "2\n",
      "3\n",
      "4\n",
      "5\n"
     ]
    },
    {
     "ename": "AttributeError",
     "evalue": "'generator' object has no attribute 'data'",
     "output_type": "error",
     "traceback": [
      "\u001b[1;31m---------------------------------------------------------------------------\u001b[0m",
      "\u001b[1;31mAttributeError\u001b[0m                            Traceback (most recent call last)",
      "\u001b[1;32m<ipython-input-11-c782c81ad3b8>\u001b[0m in \u001b[0;36m<module>\u001b[1;34m()\u001b[0m\n\u001b[0;32m     27\u001b[0m     \u001b[0mdata\u001b[0m\u001b[1;33m=\u001b[0m\u001b[0mint\u001b[0m\u001b[1;33m(\u001b[0m\u001b[0minput\u001b[0m\u001b[1;33m(\u001b[0m\u001b[1;33m)\u001b[0m\u001b[1;33m)\u001b[0m\u001b[1;33m\u001b[0m\u001b[0m\n\u001b[0;32m     28\u001b[0m     \u001b[0mhead\u001b[0m\u001b[1;33m=\u001b[0m\u001b[0mmylist\u001b[0m\u001b[1;33m.\u001b[0m\u001b[0minsert\u001b[0m\u001b[1;33m(\u001b[0m\u001b[0mhead\u001b[0m\u001b[1;33m,\u001b[0m\u001b[0mdata\u001b[0m\u001b[1;33m)\u001b[0m\u001b[1;33m\u001b[0m\u001b[0m\n\u001b[1;32m---> 29\u001b[1;33m \u001b[0mmylist\u001b[0m\u001b[1;33m.\u001b[0m\u001b[0mdisplay\u001b[0m\u001b[1;33m(\u001b[0m\u001b[0mhead\u001b[0m\u001b[1;33m)\u001b[0m\u001b[1;33m;\u001b[0m\u001b[1;33m\u001b[0m\u001b[0m\n\u001b[0m",
      "\u001b[1;32m<ipython-input-11-c782c81ad3b8>\u001b[0m in \u001b[0;36mdisplay\u001b[1;34m(self, head)\u001b[0m\n\u001b[0;32m      7\u001b[0m         \u001b[0mcurrent\u001b[0m \u001b[1;33m=\u001b[0m \u001b[0mhead\u001b[0m\u001b[1;33m\u001b[0m\u001b[0m\n\u001b[0;32m      8\u001b[0m         \u001b[1;32mwhile\u001b[0m \u001b[0mcurrent\u001b[0m\u001b[1;33m:\u001b[0m\u001b[1;33m\u001b[0m\u001b[0m\n\u001b[1;32m----> 9\u001b[1;33m             \u001b[1;32mprint\u001b[0m \u001b[0mcurrent\u001b[0m\u001b[1;33m.\u001b[0m\u001b[0mdata\u001b[0m\u001b[1;33m,\u001b[0m\u001b[1;33m\u001b[0m\u001b[0m\n\u001b[0m\u001b[0;32m     10\u001b[0m             \u001b[0mcurrent\u001b[0m \u001b[1;33m=\u001b[0m \u001b[0mcurrent\u001b[0m\u001b[1;33m.\u001b[0m\u001b[0mnext\u001b[0m\u001b[1;33m\u001b[0m\u001b[0m\n\u001b[0;32m     11\u001b[0m \u001b[1;33m\u001b[0m\u001b[0m\n",
      "\u001b[1;31mAttributeError\u001b[0m: 'generator' object has no attribute 'data'"
     ]
    }
   ],
   "source": [
    "class Node:\n",
    "    def __init__(self,data):\n",
    "        self.data = data\n",
    "        self.next = None\n",
    "class Solution:\n",
    "    def display(self,head):\n",
    "        current = head\n",
    "        while current:\n",
    "            print current.data,\n",
    "            current = current.next\n",
    "        \n",
    "    def insert(self,head,data): \n",
    "    #Complete this method\n",
    "        current = Node(data)\n",
    "        current.next = head\n",
    "        head = current\n",
    "        return head\n",
    "        \n",
    "\n",
    "mylist= Solution()\n",
    "T=int(input())\n",
    "head=None\n",
    "for i in range(T):\n",
    "    data=int(input())\n",
    "    head=mylist.insert(head,data)    \n",
    "mylist.display(head);"
   ]
  },
  {
   "cell_type": "markdown",
   "metadata": {},
   "source": [
    "## Day 16: Exceptions - String to Integer"
   ]
  },
  {
   "cell_type": "code",
   "execution_count": 12,
   "metadata": {
    "collapsed": false
   },
   "outputs": [
    {
     "name": "stdout",
     "output_type": "stream",
     "text": [
      "jad\n",
      "Bad String\n"
     ]
    }
   ],
   "source": [
    "S = raw_input().strip()\n",
    "\n",
    "try:\n",
    "    n = int(S)\n",
    "    print n\n",
    "except:\n",
    "    print \"Bad String\""
   ]
  },
  {
   "cell_type": "markdown",
   "metadata": {},
   "source": [
    "## Day 17: More Exceptions"
   ]
  },
  {
   "cell_type": "code",
   "execution_count": 20,
   "metadata": {
    "collapsed": false
   },
   "outputs": [
    {
     "name": "stdout",
     "output_type": "stream",
     "text": [
      "4\n",
      "3 5\n",
      "243.0\n",
      "2 4\n",
      "16.0\n",
      "-1 -2\n",
      "n and p should be non-negative\n",
      "-1 3\n",
      "n and p should be non-negative\n"
     ]
    }
   ],
   "source": [
    "#Write your code here\n",
    "import math\n",
    "class Calculator:\n",
    "     def power(self,n,p):\n",
    "        assert (n>=0 and p>=0), \"n and p should be non-negative\"\n",
    "        return math.pow(n,p)\n",
    "\n",
    "\n",
    "myCalculator=Calculator()\n",
    "T=int(raw_input())\n",
    "for i in range(T):\n",
    "    n,p = map(int, raw_input().split())\n",
    "    try:\n",
    "        ans=myCalculator.power(n,p)\n",
    "        print ans\n",
    "    except Exception,e:\n",
    "        print e    "
   ]
  },
  {
   "cell_type": "markdown",
   "metadata": {},
   "source": [
    "## Day 18: Queues and Stacks"
   ]
  },
  {
   "cell_type": "code",
   "execution_count": null,
   "metadata": {
    "collapsed": true
   },
   "outputs": [],
   "source": [
    "import sys\n",
    "class Solution:\n",
    "    def pushCharacter(self,s):\n",
    "        \n",
    "    \n",
    "\n",
    "\n",
    "# read the string s\n",
    "s=raw_input()\n",
    "#Create the Solution class object\n",
    "obj=Solution()   \n",
    "\n",
    "l=len(s)\n",
    "# push/enqueue all the characters of string s to stack\n",
    "for i in range(l):\n",
    "    obj.pushCharacter(s[i])\n",
    "    obj.enqueueCharacter(s[i])\n",
    "    \n",
    "isPalindrome=True\n",
    "'''\n",
    "pop the top character from stack\n",
    "dequeue the first character from queue\n",
    "compare both the characters\n",
    "''' \n",
    "for i in range(l / 2):\n",
    "    if obj.popCharacter()!=obj.dequeueCharacter():\n",
    "        isPalindrome=False\n",
    "        break\n",
    "#finally print whether string s is palindrome or not.\n",
    "if isPalindrome:\n",
    "    sys.stdout.write (\"The word, \"+s+\", is a palindrome.\")\n",
    "else:\n",
    "    sys.stdout.write (\"The word, \"+s+\", is not a palindrome.\")    \n",
    "  "
   ]
  }
 ],
 "metadata": {
  "kernelspec": {
   "display_name": "Python 2",
   "language": "python",
   "name": "python2"
  },
  "language_info": {
   "codemirror_mode": {
    "name": "ipython",
    "version": 2
   },
   "file_extension": ".py",
   "mimetype": "text/x-python",
   "name": "python",
   "nbconvert_exporter": "python",
   "pygments_lexer": "ipython2",
   "version": "2.7.13"
  }
 },
 "nbformat": 4,
 "nbformat_minor": 0
}
