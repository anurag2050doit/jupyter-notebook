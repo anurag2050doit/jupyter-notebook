{
 "cells": [
  {
   "cell_type": "markdown",
   "metadata": {},
   "source": [
    "# TechGIG Challange "
   ]
  },
  {
   "cell_type": "markdown",
   "metadata": {},
   "source": [
    "## Hello Techgig"
   ]
  },
  {
   "cell_type": "code",
   "execution_count": 3,
   "metadata": {
    "collapsed": false
   },
   "outputs": [
    {
     "name": "stdout",
     "output_type": "stream",
     "text": [
      "hello\n",
      "Hello Techgig\n",
      "hello\n"
     ]
    }
   ],
   "source": [
    "''' Read input from STDIN. Print your output to STDOUT '''\n",
    "    #Use input() to read input from STDIN and use print to write your output to STDOUT\n",
    "    \n",
    "def main():\n",
    " \n",
    " s = raw_input()\n",
    " print (\"Hello Techgig\" )\n",
    " print (s)\n",
    " \n",
    " # Write code here \n",
    " \n",
    "main()\n"
   ]
  },
  {
   "cell_type": "markdown",
   "metadata": {},
   "source": [
    "## Data Type"
   ]
  },
  {
   "cell_type": "code",
   "execution_count": 27,
   "metadata": {
    "collapsed": false
   },
   "outputs": [
    {
     "name": "stdout",
     "output_type": "stream",
     "text": [
      "5\n",
      "Integer\n"
     ]
    }
   ],
   "source": [
    "s = raw_input()\n",
    "try:\n",
    "    num = float(s)\n",
    "    if(int(num)==num):\n",
    "        print \"Integer\"\n",
    "    else:\n",
    "        print \"Float\"\n",
    "except ValueError:\n",
    "    print \"String\""
   ]
  },
  {
   "cell_type": "markdown",
   "metadata": {},
   "source": [
    "## Play with Operator"
   ]
  },
  {
   "cell_type": "code",
   "execution_count": 29,
   "metadata": {
    "collapsed": false
   },
   "outputs": [
    {
     "name": "stdout",
     "output_type": "stream",
     "text": [
      "100\n",
      "3\n",
      "2\n",
      "6\n"
     ]
    }
   ],
   "source": [
    "p = int(raw_input())\n",
    "r = int(raw_input())\n",
    "t = int(raw_input())\n",
    "si = int((p*r*t)/100)\n",
    "print si"
   ]
  },
  {
   "cell_type": "markdown",
   "metadata": {},
   "source": [
    "## Decide yourself with best condition statement"
   ]
  },
  {
   "cell_type": "code",
   "execution_count": 3,
   "metadata": {
    "collapsed": false
   },
   "outputs": [
    {
     "name": "stdout",
     "output_type": "stream",
     "text": [
      "18\n",
      "I am very much happy as i handled the pressure very well.\n"
     ]
    }
   ],
   "source": [
    "''' Read input from STDIN. Print your output to STDOUT '''\n",
    "    #Use input() to read input from STDIN and use print to write your output to STDOUT\n",
    "    \n",
    "def main():\n",
    "    age = raw_input()\n",
    "    if (age<10):\n",
    "        print (\"I am happy as having no responsibilities.\")\n",
    "    elif (age>=10 and age<18):\n",
    "        print (\"I am still happy but starts feeling pressure of life.\")\n",
    "    else:\n",
    "        print (\"I am very much happy as i handled the pressure very well.\")\n",
    " # Write code here \n",
    " \n",
    "main()\n"
   ]
  },
  {
   "cell_type": "markdown",
   "metadata": {},
   "source": [
    "## Loop your World"
   ]
  },
  {
   "cell_type": "code",
   "execution_count": 7,
   "metadata": {
    "collapsed": false
   },
   "outputs": [
    {
     "name": "stdout",
     "output_type": "stream",
     "text": [
      "5\n",
      "120\n"
     ]
    }
   ],
   "source": [
    "''' Read input from STDIN. Print your output to STDOUT '''\n",
    "    #Use input() to read input from STDIN and use print to write your output to STDOUT\n",
    "    \n",
    "def main():\n",
    "    f =1\n",
    "    n = int(raw_input())\n",
    "    for i in range(1,n+1):\n",
    "        f = i*f\n",
    "    print f\n",
    " # Write code here \n",
    " \n",
    "main()\n"
   ]
  },
  {
   "cell_type": "markdown",
   "metadata": {},
   "source": [
    "## How big is your number"
   ]
  },
  {
   "cell_type": "code",
   "execution_count": 13,
   "metadata": {
    "collapsed": false
   },
   "outputs": [
    {
     "name": "stdout",
     "output_type": "stream",
     "text": [
      "5997884\n",
      "7\n"
     ]
    }
   ],
   "source": [
    "''' Read input from STDIN. Print your output to STDOUT '''\n",
    "    #Use input() to read input from STDIN and use print to write your output to STDOUT\n",
    "import math\n",
    "def main():\n",
    "    n = int(raw_input())\n",
    "    d = int(math.log10(n))+1\n",
    "    print d\n",
    "\n",
    " # Write code here \n",
    "\n",
    "main()\n",
    "\n"
   ]
  },
  {
   "cell_type": "markdown",
   "metadata": {},
   "source": [
    "## Count special number between boundaries"
   ]
  },
  {
   "cell_type": "code",
   "execution_count": 41,
   "metadata": {
    "collapsed": false
   },
   "outputs": [
    {
     "name": "stdout",
     "output_type": "stream",
     "text": [
      "3\n",
      "21\n",
      "7\n"
     ]
    }
   ],
   "source": [
    "''' Read input from STDIN. Print your output to STDOUT '''\n",
    "    #Use input() to read input from STDIN and use print to write your output to STDOUT\n",
    "\n",
    "def main(start, end):\n",
    "    count = 0\n",
    "    for num in xrange(start,end + 1):\n",
    "       # prime numbers are greater than 1\n",
    "       if num > 1:\n",
    "           for i in xrange(2,num):\n",
    "               if (num % i) == 0:\n",
    "                   break\n",
    "           else:\n",
    "               count+=1\n",
    "    print count\n",
    "        \n",
    " # Write code here \n",
    "\n",
    "s = int(raw_input())\n",
    "e = int(raw_input())\n",
    "main(s,e)\n",
    "\n"
   ]
  },
  {
   "cell_type": "code",
   "execution_count": 35,
   "metadata": {
    "collapsed": false
   },
   "outputs": [
    {
     "name": "stdout",
     "output_type": "stream",
     "text": [
      "3\n",
      "5\n",
      "7\n",
      "11\n",
      "13\n",
      "17\n",
      "19\n"
     ]
    }
   ],
   "source": [
    "for num in range(3,21 + 1):\n",
    "   # prime numbers are greater than 1\n",
    "   if num > 1:\n",
    "       for i in range(2,num):\n",
    "           if (num % i) == 0:\n",
    "               break\n",
    "       else:\n",
    "           print(num)"
   ]
  },
  {
   "cell_type": "markdown",
   "metadata": {
    "collapsed": true
   },
   "source": [
    "## Search In The Range"
   ]
  },
  {
   "cell_type": "code",
   "execution_count": 3,
   "metadata": {
    "collapsed": false
   },
   "outputs": [
    {
     "name": "stdout",
     "output_type": "stream",
     "text": [
      "1\n",
      "10\n",
      "20\n",
      "40\n",
      "500\n",
      "-1\n"
     ]
    }
   ],
   "source": [
    "def searchInTheRange(input1,input2,input3,input4,input5):\n",
    "    if(input5>input1 and input5<input2):\n",
    "        return 1\n",
    "    elif(input5>input3 and input5<input4):\n",
    "        return 2\n",
    "    else:\n",
    "        return -1\n",
    "\n",
    "ip1 = int(raw_input());\n",
    "ip2 = int(raw_input());\n",
    "ip3 = int(raw_input());\n",
    "ip4 = int(raw_input());\n",
    "ip5 = int(raw_input());\n",
    "output = searchInTheRange(ip1,ip2,ip3,ip4,ip5)\n",
    "print(str(output))"
   ]
  },
  {
   "cell_type": "markdown",
   "metadata": {},
   "source": [
    "## Find the Culprit"
   ]
  },
  {
   "cell_type": "code",
   "execution_count": 4,
   "metadata": {
    "collapsed": false
   },
   "outputs": [
    {
     "name": "stdout",
     "output_type": "stream",
     "text": [
      "3\n",
      "15\n",
      "20\n",
      "24\n",
      "4\n",
      "55\n",
      "12\n",
      "14\n",
      "4\n",
      "15\n",
      "1\n"
     ]
    }
   ],
   "source": [
    "def findTheCulprit(input1,input2,input3):\n",
    "    if(input3 in input1):\n",
    "        return 1\n",
    "    elif(input3 in input2):\n",
    "        return 2\n",
    "    else:\n",
    "        return -1\n",
    "\n",
    "\n",
    "ip1_cnt = 0\n",
    "ip1_cnt = int(raw_input())\n",
    "ip1_i=0\n",
    "ip1 = []\n",
    "while ip1_i < ip1_cnt:\n",
    "    ip1_item = int(raw_input());\n",
    "    ip1.append(ip1_item)\n",
    "    ip1_i+=1\n",
    "ip2_cnt = 0\n",
    "ip2_cnt = int(raw_input())\n",
    "ip2_i=0\n",
    "ip2 = []\n",
    "while ip2_i < ip2_cnt:\n",
    "    ip2_item = int(raw_input());\n",
    "    ip2.append(ip2_item)\n",
    "    ip2_i+=1\n",
    "ip3 = int(raw_input());\n",
    "output = findTheCulprit(ip1,ip2,ip3)\n",
    "print(str(output))"
   ]
  },
  {
   "cell_type": "markdown",
   "metadata": {},
   "source": [
    "## Balanced String or not"
   ]
  },
  {
   "cell_type": "code",
   "execution_count": 10,
   "metadata": {
    "collapsed": false
   },
   "outputs": [
    {
     "name": "stdout",
     "output_type": "stream",
     "text": [
      "kasnd  asp { askdn \n",
      "-1\n"
     ]
    }
   ],
   "source": [
    "def balancedStringOrNot(input1):\n",
    "    openCount = 0\n",
    "    closeCount = 0\n",
    "    openBackets = [\"(\",\"{\",\"[\",\"<\"]\n",
    "    closeBackets = [\")\",\"}\",\"]\",\">\"]\n",
    "    for openBacket in openBackets:\n",
    "        if(openBacket in input1):\n",
    "            openCount+=1\n",
    "    for closeBacket in closeBackets:    \n",
    "        if(closeBacket in input1):\n",
    "            closeCount+=1\n",
    "    if(closeCount==openCount):\n",
    "        return 1\n",
    "    else:\n",
    "        return -1\n",
    "\n",
    "try:\n",
    "    ip1 = raw_input()\n",
    "except:\n",
    "    ip1 = None\n",
    "output = balancedStringOrNot(ip1)\n",
    "print(str(output))\n"
   ]
  },
  {
   "cell_type": "markdown",
   "metadata": {},
   "source": [
    "## Count for Surpasser"
   ]
  },
  {
   "cell_type": "code",
   "execution_count": 36,
   "metadata": {
    "collapsed": false
   },
   "outputs": [
    {
     "name": "stdout",
     "output_type": "stream",
     "text": [
      "4\n",
      "8\n",
      "5\n",
      "0\n",
      "1\n",
      "2\n",
      "1\n",
      "1\n",
      "0\n",
      "0\n"
     ]
    }
   ],
   "source": [
    "## NOT PERFECT\n",
    "\n",
    "def countForSurpasser(input1):\n",
    "    count = 0\n",
    "    output = []\n",
    "    for element in input1:\n",
    "        if(element>2):\n",
    "            count+=1\n",
    "            output.insert(0,'1')\n",
    "        else:\n",
    "            output.append('0')\n",
    "    output.insert(0,str(count))\n",
    "    return output\n",
    "\n",
    "\n",
    "ip1_cnt = 0\n",
    "ip1_cnt = int(raw_input())\n",
    "ip1_i=0\n",
    "ip1 = []\n",
    "while ip1_i < ip1_cnt:\n",
    "    ip1_item = int(raw_input());\n",
    "    ip1.append(ip1_item)\n",
    "    ip1_i+=1\n",
    "output = countForSurpasser(ip1)\n",
    "for output_cur in output:\n",
    "    print( str(output_cur))\n"
   ]
  },
  {
   "cell_type": "markdown",
   "metadata": {},
   "source": [
    "## Pattern Prolem- 1"
   ]
  },
  {
   "cell_type": "code",
   "execution_count": 41,
   "metadata": {
    "collapsed": false
   },
   "outputs": [
    {
     "name": "stdout",
     "output_type": "stream",
     "text": [
      "5\n",
      "A B C D E\n",
      "A B C D E\n",
      "A B C D E\n",
      "A B C D E\n",
      "A B C D E\n"
     ]
    }
   ],
   "source": [
    "''' Read input from STDIN. Print your output to STDOUT '''\n",
    "    #Use input() to read input from STDIN and use print to write your output to STDOUT\n",
    "\n",
    "def main():\n",
    "    n = int(raw_input())\n",
    "    alpa = \"A B C D E\"\n",
    "    for i in xrange(0,n):\n",
    "        print alpa\n",
    "\n",
    " # Write code here \n",
    "\n",
    "main()\n"
   ]
  },
  {
   "cell_type": "markdown",
   "metadata": {},
   "source": [
    "## First Unrepeated Character"
   ]
  },
  {
   "cell_type": "code",
   "execution_count": 45,
   "metadata": {
    "collapsed": false
   },
   "outputs": [
    {
     "name": "stdout",
     "output_type": "stream",
     "text": [
      "aaabssdd\n",
      "d\n"
     ]
    }
   ],
   "source": [
    "def FirstUnrepeatedCharacter(input1):\n",
    "    alpa = []\n",
    "    for char in input1:\n",
    "        if(char not in alpha):\n",
    "            alpa.append(char)\n",
    "        else:\n",
    "            alpa.remove\n",
    "    return alpa\n",
    "\n",
    "\n",
    "try:\n",
    "    ip1 = raw_input()\n",
    "except:\n",
    "    ip1 = None\n",
    "output = FirstUnrepeatedCharacter(ip1)\n",
    "print(str(output))\n"
   ]
  },
  {
   "cell_type": "code",
   "execution_count": null,
   "metadata": {
    "collapsed": true
   },
   "outputs": [],
   "source": []
  }
 ],
 "metadata": {
  "kernelspec": {
   "display_name": "Python 2",
   "language": "python",
   "name": "python2"
  },
  "language_info": {
   "codemirror_mode": {
    "name": "ipython",
    "version": 2
   },
   "file_extension": ".py",
   "mimetype": "text/x-python",
   "name": "python",
   "nbconvert_exporter": "python",
   "pygments_lexer": "ipython2",
   "version": "2.7.13"
  }
 },
 "nbformat": 4,
 "nbformat_minor": 0
}
